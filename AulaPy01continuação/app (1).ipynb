{
 "cells": [
  {
   "cell_type": "markdown",
   "metadata": {},
   "source": [
    "## Declaração de variáveis \n"
   ]
  },
  {
   "cell_type": "code",
   "execution_count": 6,
   "metadata": {},
   "outputs": [
    {
     "name": "stdout",
     "output_type": "stream",
     "text": [
      "Bruna Silva\n"
     ]
    }
   ],
   "source": [
    "nome = 'Bruna'\n",
    "sobrenome = 'Silva'\n",
    "print(nome + ' ' + sobrenome)"
   ]
  },
  {
   "cell_type": "markdown",
   "metadata": {},
   "source": [
    "### Tipos de dados básicos"
   ]
  },
  {
   "cell_type": "code",
   "execution_count": 8,
   "metadata": {},
   "outputs": [
    {
     "name": "stdout",
     "output_type": "stream",
     "text": [
      "17\n",
      "70.1\n",
      "Bruna\n"
     ]
    }
   ],
   "source": [
    "#Int\n",
    "idade = 17\n",
    "print(idade)\n",
    "\n",
    "# Float\n",
    "peso = 70.10\n",
    "print(peso)\n",
    "\n",
    "#String\n",
    "nome = 'Bruna'\n",
    "print(nome)\n",
    "\n",
    "# Boleano\n",
    "esta_estudando = True\n",
    "esta_estudando = False\n"
   ]
  },
  {
   "cell_type": "markdown",
   "metadata": {},
   "source": [
    "### Operadores e Estruturas de controle de fluxo\n"
   ]
  },
  {
   "cell_type": "code",
   "execution_count": 4,
   "metadata": {},
   "outputs": [
    {
     "name": "stdout",
     "output_type": "stream",
     "text": [
      "True\n",
      "Você tem 18 anos\n",
      "1\n",
      "2\n",
      "3\n",
      "4\n",
      "5\n",
      "0\n",
      "17\n",
      "1\n",
      "17\n",
      "2\n",
      "17\n",
      "3\n",
      "17\n",
      "4\n",
      "17\n"
     ]
    }
   ],
   "source": [
    "a = 5\n",
    "b = 2\n",
    "\n",
    "soma = a + b \n",
    "subtracao = a - b\n",
    "multiplicacao = a * b \n",
    "divisao = a / b \n",
    "modulo =  a % b\n",
    "exponencial = a ** b\n",
    "\n",
    "# Operadores de comparação \n",
    "y = 5\n",
    "x = 8 \n",
    "\n",
    "# Igualdade\n",
    "y == x\n",
    "\n",
    "# Desigualdade \n",
    "y != x\n",
    "\n",
    "\n",
    "# Maior que\n",
    "y > x\n",
    "\n",
    "# Menor que \n",
    "y < x \n",
    "\n",
    "# Maior ou igual\n",
    "y >= x\n",
    "\n",
    "# Menor ou igual\n",
    "y <= x\n",
    "\n",
    "# Operadors Lógicos\n",
    "condicao1 = True\n",
    "condicao2 = False\n",
    "\n",
    "condicao1 and condicao2\n",
    "condicao1 or condicao2\n",
    "not condicao2\n",
    "nome1 = not condicao2\n",
    "\n",
    "print(nome1)\n",
    "\n",
    "\n",
    "# Estrutura condicional, if, elif else\n",
    "\n",
    "idade1 = 18\n",
    "\n",
    "if idade1 < 18:\n",
    "   print('É menor de idade')\n",
    "elif idade1 == 18:\n",
    "   print('Você tem 18 anos')\n",
    "else:\n",
    "   print('Você é maior de idade')\n",
    "\n",
    "   # Estrutura de repetição\n",
    "\n",
    "Lista_numero = [1,2,3,4,5]\n",
    "for numero in Lista_numero:\n",
    "    print(numero)\n",
    "\n",
    "\n",
    "contador = 0 \n",
    "while contador < 5:\n",
    "    print(contador)\n",
    "    contador += 1 \n",
    "\n",
    "    #contar indice:\n",
    "    # Contagem do indice sempre inicia no nuero 0\n",
    "    \n",
    "    nome_completo = 'Bruna Silva Lopes'\n",
    "    contagem = len(nome_completo)\n",
    "    print(contagem)\n",
    "    \n",
    "\n",
    "    \n",
    "  \n"
   ]
  },
  {
   "cell_type": "code",
   "execution_count": null,
   "metadata": {},
   "outputs": [],
   "source": []
  },
  {
   "cell_type": "code",
   "execution_count": 2,
   "metadata": {},
   "outputs": [
    {
     "name": "stdout",
     "output_type": "stream",
     "text": [
      "impar\n",
      "Par\n",
      "impar\n",
      "Par\n",
      "impar\n",
      "Par\n",
      "impar\n",
      "Par\n",
      "impar\n",
      "Par\n",
      "impar\n",
      "Par\n",
      "impar\n",
      "Par\n",
      "impar\n",
      "Par\n",
      "impar\n",
      "Par\n",
      "impar\n",
      "Par\n"
     ]
    }
   ],
   "source": [
    "\"\"\"\n",
    "Criar uma lista de 1 a 20 \n",
    "e printar para cada número se é um numero impar ou par\"\n",
    "\"\"\"\n",
    "\n",
    "lista = [1,2,3,4,5,6,7,8,9,10,11,12,13,14,15,16,17,18,19,20 ]\n",
    "for x in lista:\n",
    "    \n",
    "   if x % 2 == 0:\n",
    "    print('Par')\n",
    "   else:\n",
    "    print('impar') \n",
    "\n",
    "\n",
    "    \n",
    "\n",
    "    \n",
    "    \n",
    "\n"
   ]
  },
  {
   "cell_type": "code",
   "execution_count": 11,
   "metadata": {},
   "outputs": [
    {
     "name": "stdout",
     "output_type": "stream",
     "text": [
      "10\n",
      "15\n",
      "16\n",
      "12\n",
      "33\n",
      "22\n",
      "11\n",
      "52\n",
      "14\n"
     ]
    }
   ],
   "source": [
    "# Crie uma lista com 15 numeros aleatorios:\n",
    "#e conte quantos numero é maior que 10\n",
    "\n",
    "\n",
    "\n",
    "# 1 declarar variavel da lista aleatoria \n",
    "# 2 jogar list para y\n",
    "# 3 print(y)\n",
    "\n",
    "list = [9,10,15,5,16,12,2,33,22,11,8,52,14]\n",
    "for y in list:\n",
    "    if y >= 10:\n",
    "        print(y)\n",
    "    pass\n",
    "\n"
   ]
  }
 ],
 "metadata": {
  "kernelspec": {
   "display_name": "Python 3",
   "language": "python",
   "name": "python3"
  },
  "language_info": {
   "codemirror_mode": {
    "name": "ipython",
    "version": 3
   },
   "file_extension": ".py",
   "mimetype": "text/x-python",
   "name": "python",
   "nbconvert_exporter": "python",
   "pygments_lexer": "ipython3",
   "version": "3.12.5"
  }
 },
 "nbformat": 4,
 "nbformat_minor": 2
}
